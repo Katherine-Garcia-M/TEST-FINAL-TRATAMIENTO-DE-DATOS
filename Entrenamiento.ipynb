{
 "cells": [
  {
   "cell_type": "code",
   "execution_count": 1,
   "id": "f202707d",
   "metadata": {},
   "outputs": [],
   "source": [
    "#Declaracion de librerias para el entrenamiento de la red neuronal\n",
    "import sys\n",
    "import os\n",
    "from tensorflow.keras.preprocessing.image import ImageDataGenerator\n",
    "from tensorflow.keras.layers import Dropout, Flatten, Dense, Activation, Convolution2D, MaxPooling2D\n",
    "from tensorflow.keras import backend as K\n",
    "from tensorflow.keras import optimizers\n",
    "from tensorflow.keras.models import Sequential"
   ]
  },
  {
   "cell_type": "code",
   "execution_count": 2,
   "id": "6460418d",
   "metadata": {},
   "outputs": [],
   "source": [
    "#Declaracion de variables para configuracion de la red neuronal previo al entrenamiento\n",
    "epochs=10 \n",
    "batch_size = 10\n",
    "steps = 120 \n",
    "validation_steps = 80 \n",
    "traindata = './CarneDataset/train'\n",
    "testdata = './CarneDataset/test'"
   ]
  },
  {
   "cell_type": "code",
   "execution_count": 3,
   "id": "5c729a58",
   "metadata": {
    "scrolled": true
   },
   "outputs": [
    {
     "name": "stdout",
     "output_type": "stream",
     "text": [
      "Found 1633 images belonging to 8 classes.\n"
     ]
    }
   ],
   "source": [
    "#Manipulacion de imagenes para mejorar el entrenamiento de la red neuronal sobre el dataset de train\n",
    "datosparaentrenamiento= ImageDataGenerator(\n",
    "    rotation_range=20,\n",
    "    width_shift_range=0.1,\n",
    "    height_shift_range=0.1,\n",
    "    rescale=1. / 255,\n",
    "    shear_range=0.2,\n",
    "    zoom_range=0.2,\n",
    "    horizontal_flip=True) \n",
    "#Generacion de variable de train para el entrenamiento de la neurona\n",
    "entrenar = datosparaentrenamiento.flow_from_directory(\n",
    "    traindata,\n",
    "    target_size=(100, 100),\n",
    "    batch_size=batch_size,\n",
    "    class_mode='categorical')"
   ]
  },
  {
   "cell_type": "code",
   "execution_count": 4,
   "id": "fd8d932e",
   "metadata": {},
   "outputs": [
    {
     "name": "stdout",
     "output_type": "stream",
     "text": [
      "Found 810 images belonging to 8 classes.\n"
     ]
    }
   ],
   "source": [
    "#Manipulacion de imagenes para mejorar el entrenamiento de la red neuronal sobre el dataset de test\n",
    "datosparatest = ImageDataGenerator(\n",
    "    rotation_range=20,\n",
    "    rescale=1. / 255) \n",
    "#Generacion de variable de test para el entrenamiento de la neurona\n",
    "validar = datosparatest.flow_from_directory(\n",
    "    testdata,\n",
    "    target_size=(100, 100),\n",
    "    batch_size=batch_size,\n",
    "    class_mode='categorical')"
   ]
  },
  {
   "cell_type": "code",
   "execution_count": 5,
   "id": "1dc28601",
   "metadata": {},
   "outputs": [],
   "source": [
    "#Creacion de la red nuronal y aumento de las capas y la configuracion para el entrenamiento\n",
    "red_neuronal = Sequential()\n",
    "red_neuronal.add(Convolution2D(32, (3, 3), padding =\"same\", input_shape=(100, 100, 3), activation='relu'))\n",
    "red_neuronal.add(MaxPooling2D(pool_size=(2, 2)))\n",
    "red_neuronal.add(Convolution2D(64, (2, 2), padding =\"same\", activation='relu'))\n",
    "red_neuronal.add(MaxPooling2D(pool_size=(2, 2)))\n",
    "red_neuronal.add(Convolution2D(128, (3, 3), padding=\"same\", activation='relu'))\n",
    "red_neuronal.add(MaxPooling2D(pool_size=(2, 2)))\n",
    "red_neuronal.add(Flatten())\n",
    "red_neuronal.add(Dense(256, activation='relu'))\n",
    "red_neuronal.add(Dropout(0.5))\n",
    "red_neuronal.add(Dense(8, activation='softmax'))\n",
    "red_neuronal.compile(loss='categorical_crossentropy',optimizer=optimizers.Adam(learning_rate=0.0009),metrics=['accuracy'])"
   ]
  },
  {
   "cell_type": "code",
   "execution_count": 6,
   "id": "34bb2b41",
   "metadata": {},
   "outputs": [
    {
     "name": "stdout",
     "output_type": "stream",
     "text": [
      "Epoch 1/10\n",
      "120/120 [==============================] - 114s 914ms/step - loss: 1.3236 - accuracy: 0.5809 - val_loss: 1.1695 - val_accuracy: 0.5838\n",
      "Epoch 2/10\n",
      "120/120 [==============================] - 73s 612ms/step - loss: 0.9774 - accuracy: 0.6655 - val_loss: 1.0149 - val_accuracy: 0.6475\n",
      "Epoch 3/10\n",
      "120/120 [==============================] - 118s 981ms/step - loss: 0.7876 - accuracy: 0.7091 - val_loss: 0.7672 - val_accuracy: 0.7063\n",
      "Epoch 4/10\n",
      "120/120 [==============================] - 92s 762ms/step - loss: 0.6743 - accuracy: 0.7517 - val_loss: 0.5500 - val_accuracy: 0.8313\n",
      "Epoch 5/10\n",
      "120/120 [==============================] - 61s 506ms/step - loss: 0.6164 - accuracy: 0.7745 - val_loss: 0.5563 - val_accuracy: 0.8100\n",
      "Epoch 6/10\n",
      "120/120 [==============================] - 60s 501ms/step - loss: 0.5450 - accuracy: 0.8013 - val_loss: 0.7456 - val_accuracy: 0.7125\n",
      "Epoch 7/10\n",
      "120/120 [==============================] - 61s 505ms/step - loss: 0.5434 - accuracy: 0.7904 - val_loss: 0.3881 - val_accuracy: 0.8775\n",
      "Epoch 8/10\n",
      "120/120 [==============================] - 60s 504ms/step - loss: 0.4660 - accuracy: 0.8282 - val_loss: 0.3918 - val_accuracy: 0.8487\n",
      "Epoch 9/10\n",
      "120/120 [==============================] - 61s 508ms/step - loss: 0.4167 - accuracy: 0.8450 - val_loss: 0.4558 - val_accuracy: 0.8275\n",
      "Epoch 10/10\n",
      "120/120 [==============================] - 60s 501ms/step - loss: 0.4046 - accuracy: 0.8525 - val_loss: 0.4312 - val_accuracy: 0.8413\n"
     ]
    }
   ],
   "source": [
    "#Entrenamiento de la red nuronal con los valores preinicializados\n",
    "historia = red_neuronal.fit(\n",
    "    entrenar,\n",
    "    steps_per_epoch=steps,\n",
    "    epochs=epochs,\n",
    "    validation_data=validar,\n",
    "    validation_steps=validation_steps\n",
    ")"
   ]
  },
  {
   "cell_type": "code",
   "execution_count": 7,
   "id": "93f181e3",
   "metadata": {},
   "outputs": [
    {
     "name": "stdout",
     "output_type": "stream",
     "text": [
      "Efectividad: 0.8525\n",
      "Perdida: 0.4046\n"
     ]
    }
   ],
   "source": [
    "#Visualizacion de los valores de eficiencia y perdida generados a partir del entrenamiento\n",
    "efectivo = historia.history['accuracy']\n",
    "perdida= historia.history['loss']\n",
    "print(f\"Efectividad: {efectivo[-1]:.4f}\")\n",
    "print(f\"Perdida: {perdida[-1]:.4f}\")"
   ]
  },
  {
   "cell_type": "code",
   "execution_count": 12,
   "id": "406e2057",
   "metadata": {},
   "outputs": [],
   "source": [
    "#Guardado de los datos generados en el entrenamiento en dos archivos\n",
    "directorio = './modelo/'\n",
    "if not os.path.exists(directorio):\n",
    "  os.mkdir(directorio)\n",
    "red_neuronal.save('./modelo/modelo.keras')\n",
    "red_neuronal.save_weights('./modelo/pesos.keras')"
   ]
  },
  {
   "cell_type": "code",
   "execution_count": null,
   "id": "450b9066",
   "metadata": {},
   "outputs": [],
   "source": []
  }
 ],
 "metadata": {
  "kernelspec": {
   "display_name": "Python 3 (ipykernel)",
   "language": "python",
   "name": "python3"
  },
  "language_info": {
   "codemirror_mode": {
    "name": "ipython",
    "version": 3
   },
   "file_extension": ".py",
   "mimetype": "text/x-python",
   "name": "python",
   "nbconvert_exporter": "python",
   "pygments_lexer": "ipython3",
   "version": "3.11.4"
  }
 },
 "nbformat": 4,
 "nbformat_minor": 5
}
